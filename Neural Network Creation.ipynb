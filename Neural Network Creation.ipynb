{
 "cells": [
  {
   "cell_type": "markdown",
   "id": "09ec89d9",
   "metadata": {},
   "source": [
    "Neural Network script that given set parameters will assess the accuracy\n",
    "of different layouts of hidden layer (1-n hidden nodes) and output\n",
    "comparison stats and graphs"
   ]
  },
  {
   "cell_type": "code",
   "execution_count": null,
   "id": "4cc2d39d",
   "metadata": {},
   "outputs": [],
   "source": [
    "import numpy as np\n",
    "import csv\n",
    "import random\n",
    "import matplotlib.pyplot as plt\n",
    "from scipy import stats"
   ]
  }
 ],
 "metadata": {
  "kernelspec": {
   "display_name": "Python 3 (ipykernel)",
   "language": "python",
   "name": "python3"
  },
  "language_info": {
   "codemirror_mode": {
    "name": "ipython",
    "version": 3
   },
   "file_extension": ".py",
   "mimetype": "text/x-python",
   "name": "python",
   "nbconvert_exporter": "python",
   "pygments_lexer": "ipython3",
   "version": "3.11.1"
  }
 },
 "nbformat": 4,
 "nbformat_minor": 5
}
